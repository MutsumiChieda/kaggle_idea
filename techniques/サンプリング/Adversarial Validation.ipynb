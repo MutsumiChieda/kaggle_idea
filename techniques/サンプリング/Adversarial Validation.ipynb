{
 "cells": [
  {
   "cell_type": "markdown",
   "metadata": {},
   "source": [
    "## Adversarial Validation\n",
    "TrainとTestの分布が異なるときに有効\n",
    "\n",
    "- Train/Testのどちらであるかを分類する分類器を作る\n",
    "- TrainデータをTestデータに似ている順にソート\n",
    "- 似ている順にTrainデータから一定数抽出し，Validationデータとする．"
   ]
  },
  {
   "cell_type": "code",
   "execution_count": 1,
   "metadata": {},
   "outputs": [],
   "source": [
    "import numpy as np\n",
    "import pandas as pd"
   ]
  },
  {
   "cell_type": "code",
   "execution_count": null,
   "metadata": {},
   "outputs": [],
   "source": [
    "train = pd.read_csv( 'data/train.csv' )\n",
    "test = pd.read_csv( 'data/test.csv' )\n",
    "\n",
    "train['TARGET'] = 1\n",
    "test['TARGET'] = 0"
   ]
  },
  {
   "cell_type": "code",
   "execution_count": null,
   "metadata": {},
   "outputs": [],
   "source": [
    "data = pd.concat(( train, test ))\n",
    "\n",
    "data = data.iloc[ np.random.permutation(len( data )) ]\n",
    "data.reset_index( drop = True, inplace = True )\n",
    "\n",
    "x = data.drop( [ 'TARGET', 'id' ], axis = 1 )\n",
    "y = data.TARGET"
   ]
  },
  {
   "cell_type": "code",
   "execution_count": null,
   "metadata": {},
   "outputs": [],
   "source": [
    "train_examples = 100000\n",
    "\n",
    "x_train = x[:train_examples]\n",
    "x_test = x[train_examples:]\n",
    "y_train = y[:train_examples]\n",
    "y_test = y[train_examples:]"
   ]
  },
  {
   "cell_type": "code",
   "execution_count": null,
   "metadata": {},
   "outputs": [],
   "source": [
    "from sklearn.cross_validation import train_test_split\n",
    "\n",
    "x_train, x_test, y_train, y_test = train_test_split( x, y, train_size = train_examples )"
   ]
  },
  {
   "cell_type": "code",
   "execution_count": null,
   "metadata": {},
   "outputs": [],
   "source": [
    "from sklearn.pipeline import make_pipeline\n",
    "\n",
    "poly_scaled_lr = make_pipeline( PolynomialFeatures(), MinMaxScaler(), LogisticRegression())"
   ]
  },
  {
   "cell_type": "code",
   "execution_count": null,
   "metadata": {},
   "outputs": [],
   "source": [
    "i = predictions.argsort()\n",
    "\n",
    "train['p'] = predictions\n",
    "train_sorted = train.iloc[i]"
   ]
  },
  {
   "cell_type": "code",
   "execution_count": null,
   "metadata": {},
   "outputs": [],
   "source": [
    "val_size = 5000\n",
    "\n",
    "train = data.iloc[:-val_size]\n",
    "val = data.iloc[-val_size:]"
   ]
  }
 ],
 "metadata": {
  "kernelspec": {
   "display_name": "Python 3",
   "language": "python",
   "name": "python3"
  },
  "language_info": {
   "codemirror_mode": {
    "name": "ipython",
    "version": 3
   },
   "file_extension": ".py",
   "mimetype": "text/x-python",
   "name": "python",
   "nbconvert_exporter": "python",
   "pygments_lexer": "ipython3",
   "version": "3.7.1"
  }
 },
 "nbformat": 4,
 "nbformat_minor": 2
}
